{
 "cells": [
  {
   "cell_type": "markdown",
   "metadata": {},
   "source": [
    "# Madripiso accounts\n",
    "\n",
    "In this Jupyter notebook, you will process an Excel file with all the items which have been bought in the Madripiso, to know how many money everybody owes to everybody.\n",
    "\n",
    "## Step 1: Update the Madripiso accounts' Excel file\n",
    "\n",
    "Update and download the Excel file from Google Drive' **Madripiso** folder. If you do not live in Madripiso, you will find a sample Excel file in my GitHub repository called Madripiso (**sample.xlsx**).\n",
    "\n",
    "This Excel file contains seven columns:\n",
    "\n",
    "- **Qué**: this column contains the name of each item (string).\n",
    "- **Quién**: this column contains the initial letter of the name of the person who has bought the **Qué** item (one-character string).\n",
    "- **Para quién**: this column shows the initial letter of the names of people who will use (eat, drink, or whatever) the **Qué** item (string).\n",
    "- **Cuánto**: this column indicates the amount of money that **Quién** spent on **Qué** item (two-decimals float).\n",
    "- **Cuándo**: this column contains the date in which the item was bought; format: yyyy-mm-dd (date).\n",
    "- **Dónde**: this column shows the place where the item was bought (string).\n",
    "- **Incidencias**: this column indicates any unforeseen circumstance that has happened when annotating the item (string).\n",
    "\n",
    "Initially, to process all accounts, only **Quién**, **Para quién** and **Cuánto** have been used."
   ]
  },
  {
   "cell_type": "markdown",
   "metadata": {},
   "source": [
    "## Step 2: Write the correct path to the Madripiso accounts' Excel file\n",
    "\n",
    "Now, between both quotation marks, write the path to the Excel file in your computer:"
   ]
  },
  {
   "cell_type": "code",
   "execution_count": null,
   "metadata": {},
   "outputs": [],
   "source": [
    "import pandas as pd\n",
    "path = \"C:/Users/edunu/OneDrive/Escritorio/git/gastos-del-piso.xlsx\""
   ]
  },
  {
   "cell_type": "markdown",
   "metadata": {},
   "source": [
    "## Step 3: Load the Excel file into Python\n",
    "\n",
    "In the previous step, we imported *pandas* package. This is a very useful package to deal with dataframes, which is the aim of this notebook.\n",
    "\n",
    "We load the Excel file into Python, using the path written in the previous step. The object with Excel data is called **gastos**."
   ]
  },
  {
   "cell_type": "code",
   "execution_count": null,
   "metadata": {},
   "outputs": [],
   "source": [
    "gastos = pd.read_excel(path)\n",
    "gastos"
   ]
  },
  {
   "cell_type": "markdown",
   "metadata": {},
   "source": [
    "## Step 4: Create a database with all accounts in Madripiso\n",
    "\n",
    "The objective of this block is to create a dataframe with the same number of rows and columns (squared). They will contain the money that everybody owes to a given person (who gives name to the row), and the money that a given person owes to everybody (who gives name to the column). For example:\n",
    "\n",
    "|       | **C** | **E** | **R** |\n",
    "|-------|-------|-------|-------|\n",
    "| **C** | 0     | 5     | 0     |\n",
    "| **E** | 0     | 0     | 2     |\n",
    "| **R** | 0     | 0     | 0     | \n",
    "\n",
    "This dataframe, similar to the dataframe we are generating, shows that Eduardo (it's me, hi everybody!) owes 5 dollars to Charlie (C) and Rose (R) owes 2 dollars to Eduardo.\n",
    "\n",
    "First, we are creating a dictionary which links each initial to its corresponding name. If you live in Madripiso, execute the following code cell:"
   ]
  },
  {
   "cell_type": "code",
   "execution_count": null,
   "metadata": {},
   "outputs": [],
   "source": [
    "nombres = {\"A\": \"A\", \"E\": \"Eduardo\", \"J\": \"J\", \"L\": \"L\",\n",
    "           \"N\": \"N\", \"X\": \"Foreigner\"}\n"
   ]
  },
  {
   "cell_type": "markdown",
   "metadata": {},
   "source": [
    "In order to protect my colleagues' identities, I'm not including their names in this public Jupyter notebook but I'm sure they will know which name corresponds to each initial letter.\n",
    "\n",
    "On the other hand, if you are not from Madripiso and you are using **sample.xlsx**, execute this other code cell:"
   ]
  },
  {
   "cell_type": "code",
   "execution_count": null,
   "metadata": {},
   "outputs": [],
   "source": [
    "nombres = {\"C\": \"Charles\", \"E\": \"Eduardo\", \"R\": \"Rose\"}"
   ]
  },
  {
   "cell_type": "markdown",
   "metadata": {},
   "source": [
    "The presence of **Foreigner** in the dataframe will help in adjusting accounts when a person who does not live in Madripiso uses an item which somebody in the Madripiso bought. In example: if **Charles** buys an Spanish omelette for dinner and this Spanish omelette is eaten by **Rose** and three **Foreigners** during dinner, it is not fair to say that **Rose** owes to **Charles** the price of the whole Spanish omelette, but only the proportional part (in this case, 25% of the price).\n",
    "\n",
    "To generate the final dataframe, I am creating a big dictionary (**tabla**) comprised of small dictionaries (**deuda**). Each **deuda** dictionary contains the sum of the money that every person (value) owes to a given person (key). This is reached by appending to a list (**deudita**) all owings from a given person, computing the sum of all this values and linking this sum to a letter. This is the code: "
   ]
  },
  {
   "cell_type": "code",
   "execution_count": null,
   "metadata": {},
   "outputs": [],
   "source": [
    "tabla = dict()\n",
    "for name in list(nombres.keys()):\n",
    "    deuda = dict()\n",
    "    for nombre in list(nombres.keys()):\n",
    "        deudita = list()\n",
    "        for _ in range(len(gastos)):\n",
    "            if name != nombre and name in gastos[\"ParaQuién\"][_] and nombre in gastos[\"Quién\"][_]:\n",
    "                for i in range(gastos[\"ParaQuién\"][_].count(name)):\n",
    "                    deudita.append(round(gastos[\"Cuánto\"][_]/len(gastos[\"ParaQuién\"][_]), 2))\n",
    "        deuda[nombre] = sum(deudita)\n",
    "    tabla[name] = deuda\n",
    "\n",
    "del deudita, deuda, gastos, name, nombre, i\n",
    "tabla = pd.DataFrame.from_dict(tabla, orient = \"index\").transpose()\n",
    "\n",
    "tabla"
   ]
  },
  {
   "cell_type": "markdown",
   "metadata": {},
   "source": [
    "## Step 5: Print outputs\n",
    "\n",
    "The final step is to print some outputs!! All outputs are written in Spanish, because we prefer it.\n",
    "\n",
    "### First: how many money owes each person to any other person?\n",
    "\n",
    "Let's see!"
   ]
  },
  {
   "cell_type": "code",
   "execution_count": null,
   "metadata": {},
   "outputs": [],
   "source": [
    "print(\"#######################################\\n\" +\n",
    "      \"# ESTAS SON LAS CUENTAS DEL MADRIPISO #\\n\" +\n",
    "      \"#######################################\\n\")\n",
    "\n",
    "print(\"¿Cuánto debe cada uno a cada uno?\\n\")\n",
    "for name in list(nombres.keys()):\n",
    "    for nombre in list(nombres.keys()):\n",
    "        if name != nombre and tabla[nombre][name] != 0:\n",
    "            print(\"%s debe %.2f euros a %s.\" % (nombres[nombre], \n",
    "                                          tabla[nombre][name],\n",
    "                                          nombres[name]))"
   ]
  },
  {
   "cell_type": "markdown",
   "metadata": {},
   "source": [
    "### Second: how many money owes each person to any other person, in a simplified way?\n",
    "\n",
    "Here, we are calculating the money that person A owes to person B minus the money that person B owes to person A. Also, all foreigners accounts are excluded."
   ]
  },
  {
   "cell_type": "code",
   "execution_count": null,
   "metadata": {},
   "outputs": [],
   "source": [
    "print(\"\\n\\n\\n\" +\n",
    "      \"#################\\n\" +\n",
    "      \"# SIMPLIFICANDO #\\n\" +\n",
    "      \"#################\\n\")\n",
    "\n",
    "print(\"Pero, haciendo cuentas, ¿cuánto debe realmente\\n\" +\n",
    "      \"cada uno a cada uno?\\n\")\n",
    "\n",
    "k = len(list(nombres.keys()))\n",
    "i = 0 # Esto es un contador para evitar repeticiones como \"Avelina debe 0 a Avelina\"\n",
    "for name in list(nombres.keys()):\n",
    "    i +=1\n",
    "    for nombre in list(nombres.keys())[i:k]:\n",
    "        if tabla[nombre][name] != 0:\n",
    "            if nombre != \"X\" and name != \"X\":\n",
    "                if tabla[nombre][name] > tabla[name][nombre]:\n",
    "                    print(\"%s debe %.2f euros a %s.\" % (nombres[nombre], \n",
    "                                              tabla[nombre][name] - tabla[name][nombre],\n",
    "                                              nombres[name]))\n",
    "                elif tabla[name][nombre] > tabla[nombre][name]:\n",
    "                    print(\"%s debe %.2f euros a %s.\" % (nombres[name], \n",
    "                                              tabla[name][nombre] - tabla[nombre][name],\n",
    "                                              nombres[nombre]))\n"
   ]
  },
  {
   "cell_type": "markdown",
   "metadata": {},
   "source": [
    "### Third: this is for the lazy ones\n",
    "\n",
    "In this piece of code, Python only shows you the money that a given person owes to anybody, and the money that anybody owes to a given person. You have to enter the initial letter of the name of this given person (capital or small letter, it works the same way)."
   ]
  },
  {
   "cell_type": "code",
   "execution_count": null,
   "metadata": {},
   "outputs": [],
   "source": [
    "print(\"\\n\\n\\n\" +\n",
    "      \"######################\\n\" +\n",
    "      \"# PARA LOS PEREZOSOS #\\n\" +\n",
    "      \"######################\\n\")\n",
    "\n",
    "print(\"¿Te da pereza buscar tu nombre entre tanta línea?\")\n",
    "\n",
    "inicial = input(\"Dime cuál es tu inicial y te lo pondré más fácil: \")\n",
    "print(\"\")\n",
    "if inicial in \"aejlnxAEJLNX\":\n",
    "    inicial = inicial.upper()\n",
    "    k = len(list(nombres.keys()))\n",
    "    i = 0 # Esto es un contador para evitar repeticiones como \"Avelina debe 0 a Avelina\"\n",
    "    for name in list(nombres.keys()):\n",
    "        i +=1\n",
    "        for nombre in list(nombres.keys())[i:k]:\n",
    "            if tabla[nombre][name] != 0:\n",
    "                if nombre == inicial or name == inicial:\n",
    "                    if tabla[nombre][name] > tabla[name][nombre]:\n",
    "                        print(\"%s debe %.2f euros a %s.\" % (nombres[nombre], \n",
    "                                                  tabla[nombre][name] - tabla[name][nombre],\n",
    "                                                  nombres[name]))\n",
    "                    elif tabla[name][nombre] > tabla[nombre][name]:\n",
    "                        print(\"%s debe %.2f euros a %s.\" % (nombres[name], \n",
    "                                                  tabla[name][nombre] - tabla[nombre][name],\n",
    "                                                  nombres[nombre]))    \n",
    "del name  , inicial, i, k"
   ]
  },
  {
   "cell_type": "markdown",
   "metadata": {},
   "source": [
    "### Last one: what is the total money that each person is owed, or the total money that each person owes?"
   ]
  },
  {
   "cell_type": "code",
   "execution_count": null,
   "metadata": {},
   "outputs": [],
   "source": [
    "print(\"\\n\\n\\n###########\\n\" +\n",
    "      \"# TOTALES #\\n\" +\n",
    "      \"###########\\n\")            \n",
    "print(\"En total, ¿cuánto debe cada uno, o cuánto\\n\" +\n",
    "      \"se le debe a cada uno?\\n\")\n",
    "for nombre in list(nombres.keys()):\n",
    "    debe = pd.DataFrame.sum(tabla, axis = 0)[nombre]\n",
    "    se_le_debe = pd.DataFrame.sum(tabla, axis = 1)[nombre]\n",
    "    total = debe - se_le_debe\n",
    "    if nombre != \"X\":\n",
    "        if total > 0:\n",
    "            print(\"%s debe %.2f euros.\" % (nombres[nombre], \n",
    "                                      total))\n",
    "        elif total < 0:\n",
    "            print(\"A %s se le debe(n) %.2f euros.\" % (nombres[nombre], \n",
    "                                      -1 * total))  \n",
    "del nombre, debe, se_le_debe, total, nombres"
   ]
  }
 ],
 "metadata": {
  "kernelspec": {
   "display_name": "Python 3",
   "language": "python",
   "name": "python3"
  },
  "language_info": {
   "codemirror_mode": {
    "name": "ipython",
    "version": 3
   },
   "file_extension": ".py",
   "mimetype": "text/x-python",
   "name": "python",
   "nbconvert_exporter": "python",
   "pygments_lexer": "ipython3",
   "version": "3.8.3"
  }
 },
 "nbformat": 4,
 "nbformat_minor": 4
}
